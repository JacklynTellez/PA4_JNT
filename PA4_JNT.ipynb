{
 "cells": [
  {
   "cell_type": "markdown",
   "id": "93b9dd69",
   "metadata": {},
   "source": [
    "# Assingment 4\n",
    "## Jacklyn Tellez \n",
    "## CS 150-01"
   ]
  },
  {
   "cell_type": "markdown",
   "id": "61c4d3e2",
   "metadata": {},
   "source": [
    "### Problem a\n",
    "let list1=[28,19,38,1,23,7,16,7,3,61,7,16] be used for the following examples"
   ]
  },
  {
   "cell_type": "code",
   "execution_count": 5,
   "id": "09dd2972",
   "metadata": {},
   "outputs": [
    {
     "data": {
      "text/plain": [
       "[28, 19, 38, 1, 23, 7, 16, 7, 3, 61, 7, 16]"
      ]
     },
     "execution_count": 5,
     "metadata": {},
     "output_type": "execute_result"
    }
   ],
   "source": [
    "list1=[28,19,38,1,23,7,16,7,3,61,7,16]\n",
    "list1"
   ]
  },
  {
   "cell_type": "markdown",
   "id": "5fe5dc05",
   "metadata": {},
   "source": [
    "#### i) append() \n",
    "Append adds an element to the end of the list."
   ]
  },
  {
   "cell_type": "code",
   "execution_count": 6,
   "id": "13e6682b",
   "metadata": {},
   "outputs": [
    {
     "data": {
      "text/plain": [
       "[28, 19, 38, 1, 23, 7, 16, 7, 3, 61, 7, 16, 28]"
      ]
     },
     "execution_count": 6,
     "metadata": {},
     "output_type": "execute_result"
    }
   ],
   "source": [
    "list1.append(28)\n",
    "list1"
   ]
  },
  {
   "cell_type": "markdown",
   "id": "1bf12863",
   "metadata": {},
   "source": [
    "#### ii) extend()\n",
    "extend is used when one wants to add all elements of a different sequence to the end of the list."
   ]
  },
  {
   "cell_type": "code",
   "execution_count": 7,
   "id": "6ebf0666",
   "metadata": {},
   "outputs": [
    {
     "data": {
      "text/plain": [
       "[28, 19, 38, 1, 23, 7, 16, 7, 3, 61, 7, 16, 28, 23, 12, 8]"
      ]
     },
     "execution_count": 7,
     "metadata": {},
     "output_type": "execute_result"
    }
   ],
   "source": [
    "list1.extend([23,12,8])\n",
    "list1"
   ]
  },
  {
   "cell_type": "markdown",
   "id": "a6fbe5b8",
   "metadata": {},
   "source": [
    "#### iii) insert()\n",
    "The insert function adds a new element to the list at a specific index"
   ]
  },
  {
   "cell_type": "code",
   "execution_count": 8,
   "id": "a222069b",
   "metadata": {},
   "outputs": [
    {
     "data": {
      "text/plain": [
       "[28, 19, 38, 45, 1, 23, 7, 16, 7, 3, 61, 7, 16, 28, 23, 12, 8]"
      ]
     },
     "execution_count": 8,
     "metadata": {},
     "output_type": "execute_result"
    }
   ],
   "source": [
    "list1.insert(3,45)\n",
    "list1"
   ]
  },
  {
   "cell_type": "markdown",
   "id": "79cbe81f",
   "metadata": {},
   "source": [
    "#### iv) remove()\n",
    "remove deletes a specified element. if the element is repeated in the list, remove deletes the first one."
   ]
  },
  {
   "cell_type": "code",
   "execution_count": 9,
   "id": "2862c2c2",
   "metadata": {},
   "outputs": [
    {
     "data": {
      "text/plain": [
       "[28, 19, 38, 45, 1, 23, 16, 7, 3, 61, 7, 16, 28, 23, 12, 8]"
      ]
     },
     "execution_count": 9,
     "metadata": {},
     "output_type": "execute_result"
    }
   ],
   "source": [
    "list1.remove(7)\n",
    "list1"
   ]
  },
  {
   "cell_type": "markdown",
   "id": "88abbafc",
   "metadata": {},
   "source": [
    "#### v) count()\n",
    "count returns the amount of times an element appears in a list. "
   ]
  },
  {
   "cell_type": "code",
   "execution_count": 10,
   "id": "0dbf797c",
   "metadata": {},
   "outputs": [
    {
     "data": {
      "text/plain": [
       "2"
      ]
     },
     "execution_count": 10,
     "metadata": {},
     "output_type": "execute_result"
    }
   ],
   "source": [
    "list1.count(28)"
   ]
  },
  {
   "cell_type": "markdown",
   "id": "6f148b9f",
   "metadata": {},
   "source": [
    "#### vi) index()\n",
    "Index is like a search key. With a list one can find the index of an element by typing index(element they want the index of) "
   ]
  },
  {
   "cell_type": "code",
   "execution_count": 11,
   "id": "2ccfa918",
   "metadata": {},
   "outputs": [
    {
     "data": {
      "text/plain": [
       "6"
      ]
     },
     "execution_count": 11,
     "metadata": {},
     "output_type": "execute_result"
    }
   ],
   "source": [
    "list1.index(16)"
   ]
  },
  {
   "cell_type": "code",
   "execution_count": null,
   "id": "284410b0",
   "metadata": {},
   "outputs": [],
   "source": []
  },
  {
   "cell_type": "markdown",
   "id": "3ad81a4a",
   "metadata": {},
   "source": [
    "#### viii) sorted()\n",
    "arranges elements in a list into a new list in ascending order. the original list is unmodified"
   ]
  },
  {
   "cell_type": "code",
   "execution_count": 13,
   "id": "f82e8ecb",
   "metadata": {},
   "outputs": [
    {
     "data": {
      "text/plain": [
       "[1, 3, 7, 7, 8, 12, 16, 16, 19, 23, 23, 28, 28, 38, 45, 61]"
      ]
     },
     "execution_count": 13,
     "metadata": {},
     "output_type": "execute_result"
    }
   ],
   "source": [
    "x=sorted(list1)\n",
    "x"
   ]
  },
  {
   "cell_type": "markdown",
   "id": "70cf2caf",
   "metadata": {},
   "source": [
    "#### ix) copy()\n",
    "when copy is used, it returns a new list containing a shallow copy of the original list."
   ]
  },
  {
   "cell_type": "code",
   "execution_count": 12,
   "id": "651afedd",
   "metadata": {},
   "outputs": [
    {
     "data": {
      "text/plain": [
       "[28, 19, 38, 45, 1, 23, 16, 7, 3, 61, 7, 16, 28, 23, 12, 8]"
      ]
     },
     "execution_count": 12,
     "metadata": {},
     "output_type": "execute_result"
    }
   ],
   "source": [
    "copied_list1 = list1.copy()\n",
    "copied_list1"
   ]
  },
  {
   "cell_type": "markdown",
   "id": "d4eeea98",
   "metadata": {},
   "source": [
    "#### x) clear()\n",
    "clear deletes all elements in a list."
   ]
  },
  {
   "cell_type": "code",
   "execution_count": 17,
   "id": "ef70aad4",
   "metadata": {},
   "outputs": [
    {
     "data": {
      "text/plain": [
       "[]"
      ]
     },
     "execution_count": 17,
     "metadata": {},
     "output_type": "execute_result"
    }
   ],
   "source": [
    "list1.clear()\n",
    "list1"
   ]
  },
  {
   "cell_type": "markdown",
   "id": "7dc2018b",
   "metadata": {},
   "source": [
    "#### xi) any()\n",
    "any returns true if any in the agument is true"
   ]
  },
  {
   "cell_type": "code",
   "execution_count": 14,
   "id": "6d8f34da",
   "metadata": {},
   "outputs": [
    {
     "data": {
      "text/plain": [
       "True"
      ]
     },
     "execution_count": 14,
     "metadata": {},
     "output_type": "execute_result"
    }
   ],
   "source": [
    "hall=[False,False,True]\n",
    "any(hall)"
   ]
  },
  {
   "cell_type": "markdown",
   "id": "395e716c",
   "metadata": {},
   "source": [
    "#### xii) filter()\n",
    "filter is when elements are filtered so that only a select few match a condition. "
   ]
  },
  {
   "cell_type": "markdown",
   "id": "5e1e433f",
   "metadata": {},
   "source": [
    "#### xiii) list()\n",
    "the list checks the expression from left to right and a new list is created with expression's value"
   ]
  },
  {
   "cell_type": "markdown",
   "id": "eab9b868",
   "metadata": {},
   "source": [
    "#### xiv) map()\n",
    "map calculates elements into new values. the result has the same number of elements as the original list being mapped. "
   ]
  },
  {
   "cell_type": "code",
   "execution_count": 15,
   "id": "e9bf8815",
   "metadata": {},
   "outputs": [
    {
     "name": "stdout",
     "output_type": "stream",
     "text": [
      "[3, 13, 2, 16, 16, 17, 19, 18, 12, 16]\n"
     ]
    }
   ],
   "source": [
    "import random #this example uses filter(), list(), and map()\n",
    "def greater_ten(x):\n",
    "    if x>10:\n",
    "        return x\n",
    "number=[random.randrange(1,20) for i in range(10)]\n",
    "print(number)"
   ]
  },
  {
   "cell_type": "code",
   "execution_count": 16,
   "id": "ae3d9c93",
   "metadata": {},
   "outputs": [
    {
     "name": "stdout",
     "output_type": "stream",
     "text": [
      "[13, 16, 16, 17, 19, 18, 12, 16]\n",
      "[None, 13, None, 16, 16, 17, 19, 18, 12, 16]\n"
     ]
    }
   ],
   "source": [
    "print(list(filter(greater_ten,number)))\n",
    "print(list(map(greater_ten,number)))"
   ]
  },
  {
   "cell_type": "markdown",
   "id": "8e75c44d",
   "metadata": {},
   "source": [
    "#### vii) pop()\n",
    "pop removes and returns the element at the end of the list"
   ]
  },
  {
   "cell_type": "code",
   "execution_count": 22,
   "id": "d14fa58d",
   "metadata": {},
   "outputs": [
    {
     "data": {
      "text/plain": [
       "16"
      ]
     },
     "execution_count": 22,
     "metadata": {},
     "output_type": "execute_result"
    }
   ],
   "source": [
    "number.pop()\n"
   ]
  },
  {
   "cell_type": "code",
   "execution_count": 23,
   "id": "38748382",
   "metadata": {},
   "outputs": [
    {
     "data": {
      "text/plain": [
       "[3, 13, 2, 16, 16, 17, 19, 18, 12]"
      ]
     },
     "execution_count": 23,
     "metadata": {},
     "output_type": "execute_result"
    }
   ],
   "source": [
    "number"
   ]
  },
  {
   "cell_type": "markdown",
   "id": "13967097",
   "metadata": {},
   "source": [
    "### Problem b\n",
    "let Tuple be input=('car','bike','train','airplane')"
   ]
  },
  {
   "cell_type": "code",
   "execution_count": 19,
   "id": "00591556",
   "metadata": {},
   "outputs": [
    {
     "data": {
      "text/plain": [
       "('car', 'bike', 'train', 'airplane')"
      ]
     },
     "execution_count": 19,
     "metadata": {},
     "output_type": "execute_result"
    }
   ],
   "source": [
    "input=('car','bike','train','airplane')\n",
    "input"
   ]
  },
  {
   "cell_type": "markdown",
   "id": "49cb53c4",
   "metadata": {},
   "source": [
    "#### i) cmp()\n",
    "cmp compares two tuples"
   ]
  },
  {
   "cell_type": "code",
   "execution_count": 26,
   "id": "2680ccd9",
   "metadata": {},
   "outputs": [
    {
     "name": "stdout",
     "output_type": "stream",
     "text": [
      "1\n"
     ]
    }
   ],
   "source": [
    "def cmp(a,b):\n",
    "    return (a>b) - (a<b)\n",
    "a=(3,2,5,6)\n",
    "b=(2,4,5,6)\n",
    "c= cmp(a,b)\n",
    "print(c)"
   ]
  },
  {
   "cell_type": "markdown",
   "id": "5466061e",
   "metadata": {},
   "source": [
    "#### ii) len()\n",
    "len returns the number of elements in a tuple of list."
   ]
  },
  {
   "cell_type": "code",
   "execution_count": 20,
   "id": "0c4bb07b",
   "metadata": {},
   "outputs": [
    {
     "data": {
      "text/plain": [
       "4"
      ]
     },
     "execution_count": 20,
     "metadata": {},
     "output_type": "execute_result"
    }
   ],
   "source": [
    "len(input)"
   ]
  },
  {
   "cell_type": "markdown",
   "id": "9208c396",
   "metadata": {},
   "source": [
    "#### iii) max()\n",
    "max numerically outputs the largest element. alphabetically it outputs the element the is closest to the end off the alphabet "
   ]
  },
  {
   "cell_type": "code",
   "execution_count": 21,
   "id": "35cda25c",
   "metadata": {},
   "outputs": [
    {
     "data": {
      "text/plain": [
       "'train'"
      ]
     },
     "execution_count": 21,
     "metadata": {},
     "output_type": "execute_result"
    }
   ],
   "source": [
    "max(input)"
   ]
  },
  {
   "cell_type": "markdown",
   "id": "35ea5c04",
   "metadata": {},
   "source": [
    "#### iv) tuple(seq) \n",
    "ordered sequence of tuple"
   ]
  },
  {
   "cell_type": "code",
   "execution_count": 27,
   "id": "9538631c",
   "metadata": {},
   "outputs": [
    {
     "ename": "NameError",
     "evalue": "name 'seq' is not defined",
     "output_type": "error",
     "traceback": [
      "\u001b[1;31m---------------------------------------------------------------------------\u001b[0m",
      "\u001b[1;31mNameError\u001b[0m                                 Traceback (most recent call last)",
      "\u001b[1;32m<ipython-input-27-e4032a90d0e9>\u001b[0m in \u001b[0;36m<module>\u001b[1;34m\u001b[0m\n\u001b[1;32m----> 1\u001b[1;33m \u001b[0mx\u001b[0m\u001b[1;33m=\u001b[0m\u001b[0mtuple\u001b[0m\u001b[1;33m(\u001b[0m\u001b[0mseq\u001b[0m\u001b[1;33m(\u001b[0m\u001b[0minput\u001b[0m\u001b[1;33m)\u001b[0m\u001b[1;33m)\u001b[0m\u001b[1;33m\u001b[0m\u001b[1;33m\u001b[0m\u001b[0m\n\u001b[0m\u001b[0;32m      2\u001b[0m \u001b[0mx\u001b[0m\u001b[1;33m\u001b[0m\u001b[1;33m\u001b[0m\u001b[0m\n",
      "\u001b[1;31mNameError\u001b[0m: name 'seq' is not defined"
     ]
    }
   ],
   "source": [
    "x=tuple(seq(input))\n",
    "x"
   ]
  },
  {
   "cell_type": "markdown",
   "id": "f4cc7a08",
   "metadata": {},
   "source": []
  },
  {
   "cell_type": "code",
   "execution_count": null,
   "id": "a1854108",
   "metadata": {},
   "outputs": [],
   "source": []
  },
  {
   "cell_type": "code",
   "execution_count": null,
   "id": "af63cd7f",
   "metadata": {},
   "outputs": [],
   "source": []
  }
 ],
 "metadata": {
  "kernelspec": {
   "display_name": "Python 3",
   "language": "python",
   "name": "python3"
  },
  "language_info": {
   "codemirror_mode": {
    "name": "ipython",
    "version": 3
   },
   "file_extension": ".py",
   "mimetype": "text/x-python",
   "name": "python",
   "nbconvert_exporter": "python",
   "pygments_lexer": "ipython3",
   "version": "3.8.8"
  }
 },
 "nbformat": 4,
 "nbformat_minor": 5
}
